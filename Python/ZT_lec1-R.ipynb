{
 "cells": [
  {
   "cell_type": "markdown",
   "metadata": {},
   "source": [
    "# Basic R\n",
    "\n",
    "## Introduction\n",
    "\n",
    "One cannot acquire a new programming language without investing numerous hours.\n",
    "[R-Introduction](https://cran.r-project.org/doc/manuals/r-release/R-intro.pdf) is an official manual\n",
    "maintained by the R core team.\n",
    "It was the first document that I perused painstakingly when I began to learn R in 2005.\n",
    "After so many years, this is still the best starting point for you to have a taste.\n",
    "\n",
    "This lecture quickly sketches some key points of the manual, while you should carefully go over R-Introduction\n",
    "after today's lecture.\n",
    "\n",
    "## Help System\n",
    "\n",
    "The help system is the first thing we must learn for a new language.\n",
    "In R, if we know the exact name of a function and want to check its usage, we can either call `help(function_name)` or a single question mark `?function_name`.\n",
    "If we do not know the exact function name, we can instead use the double question mark `??key_words`. It will provide a list of related function names from a fuzzy search.\n",
    "\n",
    "**Example**: `?seq`, `??sequence`"
   ]
  },
  {
   "cell_type": "markdown",
   "metadata": {},
   "source": [
    "## Vector\n",
    "\n",
    "A *vector* is a collection of elements of the same type, say, integer, logical value, real number, complex number, characters or factor.\n",
    "Unlike C, R does not require explicit type declaration.\n",
    "\n",
    " `<-` assigns the value on its right-hand side to a self-defined variable name on its left-hand side. `=` is an alternative for assignment, which I prefer.\n",
    "\n",
    " `c()`  combines two or more vectors into a long vector.\n",
    "\n",
    "\n",
    "Binary arithmetic operations `+`, `-`, `*` and `\\` are performed element by element.\n",
    "So are the binary logical operations `&` `|` `!=`.\n",
    "\n",
    "*Factor* is a categorical number. *Character* is text.\n",
    "\n",
    "Missing values in R is represented as `NA` (Not Available). When some operations are not allowed, say, `log(-1)`, R returns  `NaN` (Not a Number).\n",
    "\n",
    "Vector selection is specified in square bracket `a[ ]` by either positive integer or logical vector.\n",
    "\n",
    "**Example**\n",
    "\n",
    "Logical vector operation."
   ]
  },
  {
   "cell_type": "code",
   "execution_count": 1,
   "metadata": {},
   "outputs": [
    {
     "name": "stdout",
     "output_type": "stream",
     "text": [
      "[1] FALSE  TRUE FALSE\n"
     ]
    }
   ],
   "source": [
    "logi_1 = c(T,T,F)\n",
    "logi_2 = c(F,T,T)\n",
    "\n",
    "logi_12 = logi_1 & logi_2\n",
    "print(logi_12)"
   ]
  },
  {
   "cell_type": "markdown",
   "metadata": {},
   "source": [
    "## Array and Matrix\n",
    "\n",
    "An array is a table of numbers.  \n",
    "A matrix is a 2-dimensional array.\n",
    "\n",
    "* array arithmetic: element-by-element. Caution must be exercised in binary operations involving two objects of different length. This is error-prone.\n",
    "* `%*%`, `solve`, `eigen`\n",
    "\n",
    "**Example**\n",
    "\n",
    "OLS estimation with one $x$ regressor and a constant.\n",
    "Graduate textbook expresses the OLS in matrix form\n",
    "$$\\hat{\\beta} = (X' X)^{-1} X'y.$$\n",
    "To conduct OLS estimation in R, we literally translate the mathematical expression into code.\n",
    "\n",
    "Step 1: We need data $Y$ and $X$ to run OLS. We simulate an artificial dataset."
   ]
  },
  {
   "cell_type": "markdown",
   "metadata": {},
   "source": [
    "Step 1: We need data $Y$ and $X$ to run OLS. We simulate an artificial dataset."
   ]
  },
  {
   "cell_type": "code",
   "execution_count": 2,
   "metadata": {},
   "outputs": [],
   "source": [
    "# simulate data\n",
    "rm(list = ls( ) )\n",
    "set.seed(111) # can be removed to allow the result to change\n",
    "\n",
    "# set the parameters\n",
    "n = 100\n",
    "b0 = matrix(1, nrow = 2 )\n",
    "\n",
    "# generate the data\n",
    "e = rnorm(n)\n",
    "X = cbind( 1, rnorm(n) )\n",
    "Y = X %*% b0 + e"
   ]
  },
  {
   "cell_type": "markdown",
   "metadata": {},
   "source": [
    "Step 2: translate the formula to code"
   ]
  },
  {
   "cell_type": "code",
   "execution_count": 3,
   "metadata": {},
   "outputs": [],
   "source": [
    "bhat = solve( t(X) %*% X, t(X)%*% Y )"
   ]
  },
  {
   "cell_type": "markdown",
   "metadata": {},
   "source": [
    "Step 3 (additional): plot the regression graph with the scatter points and the regression line.\n",
    "Further compare the regression line (black) with the true coefficient line (red)."
   ]
  },
  {
   "cell_type": "code",
   "execution_count": 4,
   "metadata": {},
   "outputs": [
    {
     "data": {
      "image/png": "[encoded data removed]",
      "text/plain": [
       "Plot with title \"regression\""
      ]
     },
     "metadata": {
      "image/png": {
       "height": 420,
       "width": 420
      }
     },
     "output_type": "display_data"
    }
   ],
   "source": [
    "# plot\n",
    "plot( y = Y, x = X[,2], xlab = \"X\", ylab = \"Y\", main = \"regression\")\n",
    "abline( a= bhat[1], b = bhat[2])\n",
    "abline( a = b0[1], b = b0[2], col = \"red\")\n",
    "abline( h = 0, lty = 2)\n",
    "abline( v = 0, lty = 2)"
   ]
  },
  {
   "cell_type": "markdown",
   "metadata": {},
   "source": [
    "Step 4: In econometrics we are often interested in hypothesis testing.\n",
    "The *t*-statistic is widely used.\n",
    "To test the null $H_0: \\beta_2 = 1$, we compute the associated *t*-statistic.\n",
    "Again, this is a translation.\n",
    "$$\n",
    "t  =  \\frac{\\hat{\\beta}_2 - \\beta_{02}}{ \\hat{\\sigma}_{\\hat{\\beta}_2}  }\n",
    "   =  \\frac{\\hat{\\beta}_2 - \\beta_{02}}{ \\sqrt{ \\left[ (X'X)^{-1} \\hat{\\sigma}^2 \\right]_{22} } }.\n",
    "$$\n",
    "where $[\\cdot]_{22}$ is the (2,2)-element of a matrix."
   ]
  },
  {
   "cell_type": "code",
   "execution_count": 5,
   "metadata": {},
   "outputs": [
    {
     "name": "stdout",
     "output_type": "stream",
     "text": [
      "[1] -0.5615293\n"
     ]
    }
   ],
   "source": [
    "bhat2 = bhat[2] # the parameter we want to test\n",
    "e_hat = Y - X %*% bhat\n",
    "sigma_hat_square = sum(e_hat^2)/ (n-2)\n",
    "Sigma_B = solve( t(X) %*% X  ) * sigma_hat_square\n",
    "t_value_2 = ( bhat2 - b0[2]) / sqrt( Sigma_B[2,2] )\n",
    "print(t_value_2)"
   ]
  },
  {
   "cell_type": "markdown",
   "metadata": {},
   "source": [
    "## Package\n",
    "\n",
    "A pure clean installation of R is small, but R has an extensive ecosystem of add-on packages.\n",
    "This is the unique treasure for R users, and other languages like Python or MATLAB are not even close.\n",
    "Most packages are hosted on [CRAN](https://cran.r-project.org/web/packages/).\n",
    "A common practice today is that statisticians upload a package to CRAN after they write or publish a paper with a new statistical method.\n",
    "They promote their work via CRAN, and users have easy access to the state-of-the-art methods.\n",
    "\n",
    "A package can be installed by\n",
    "`install.packages(\"package_name\")` and invoked by `library(package_name)`.\n",
    "\n",
    "[Applied Econometrics with R](http://www.springer.com/gp/book/9780387773162) by Christian Kleiber and Achim Zeileis is a useful book.\n",
    "It also has a companion package\n",
    "`AER` that contains popular econometric methods such as instrumental variable regression and robust variance."
   ]
  },
  {
   "cell_type": "markdown",
   "metadata": {},
   "source": [
    "## Mixed Data Types\n",
    "\n",
    "A vector only contains one type of elements.\n",
    "*list* is a basket for objects of various types.\n",
    "It can serve as a container when a procedure returns more than one useful object.\n",
    "For example, when we invoke `eigen`, we are\n",
    "interested in both eigenvalues and eigenvectors,\n",
    "which are stored into `$value` and `$vector`, respectively.\n",
    "\n",
    "*data.frame* is a two-dimensional table that stores the data, similar to a spreadsheet in Excel.\n",
    "A matrix is also a two-dimensional table, but it only accommodates one type of elements.\n",
    "Real world data can be a collection of integers, real numbers, characters, categorical numbers and so on.\n",
    "Data frame is the best way to organize data of mixed type in R.\n",
    "\n",
    "**Example**\n",
    "\n",
    "This is a data set in a graduate-level econometrics textbook. We load the data into memory and display the first 6 records."
   ]
  },
  {
   "cell_type": "code",
   "execution_count": 6,
   "metadata": {
    "inputHidden": false,
    "outputHidden": false
   },
   "outputs": [
    {
     "name": "stderr",
     "output_type": "stream",
     "text": [
      "Loading required package: car\n",
      "\n",
      "Loading required package: carData\n",
      "\n",
      "Loading required package: lmtest\n",
      "\n",
      "Loading required package: zoo\n",
      "\n",
      "\n",
      "Attaching package: 'zoo'\n",
      "\n",
      "\n",
      "The following objects are masked from 'package:base':\n",
      "\n",
      "    as.Date, as.Date.numeric\n",
      "\n",
      "\n",
      "Loading required package: sandwich\n",
      "\n",
      "Loading required package: survival\n",
      "\n"
     ]
    },
    {
     "data": {
      "text/html": [
       "<table>\n",
       "<thead><tr><th scope=col>card</th><th scope=col>reports</th><th scope=col>age</th><th scope=col>income</th><th scope=col>share</th><th scope=col>expenditure</th><th scope=col>owner</th><th scope=col>selfemp</th><th scope=col>dependents</th><th scope=col>months</th><th scope=col>majorcards</th><th scope=col>active</th></tr></thead>\n",
       "<tbody>\n",
       "\t<tr><td>yes        </td><td>0          </td><td>37.66667   </td><td>4.5200     </td><td>0.033269910</td><td>124.983300 </td><td>yes        </td><td>no         </td><td>3          </td><td>54         </td><td>1          </td><td>12         </td></tr>\n",
       "\t<tr><td>yes        </td><td>0          </td><td>33.25000   </td><td>2.4200     </td><td>0.005216942</td><td>  9.854167 </td><td>no         </td><td>no         </td><td>3          </td><td>34         </td><td>1          </td><td>13         </td></tr>\n",
       "\t<tr><td>yes        </td><td>0          </td><td>33.66667   </td><td>4.5000     </td><td>0.004155556</td><td> 15.000000 </td><td>yes        </td><td>no         </td><td>4          </td><td>58         </td><td>1          </td><td> 5         </td></tr>\n",
       "\t<tr><td>yes        </td><td>0          </td><td>30.50000   </td><td>2.5400     </td><td>0.065213780</td><td>137.869200 </td><td>no         </td><td>no         </td><td>0          </td><td>25         </td><td>1          </td><td> 7         </td></tr>\n",
       "\t<tr><td>yes        </td><td>0          </td><td>32.16667   </td><td>9.7867     </td><td>0.067050590</td><td>546.503300 </td><td>yes        </td><td>no         </td><td>2          </td><td>64         </td><td>1          </td><td> 5         </td></tr>\n",
       "\t<tr><td>yes        </td><td>0          </td><td>23.25000   </td><td>2.5000     </td><td>0.044438400</td><td> 91.996670 </td><td>no         </td><td>no         </td><td>0          </td><td>54         </td><td>1          </td><td> 1         </td></tr>\n",
       "</tbody>\n",
       "</table>\n"
      ],
      "text/latex": [
       "\\begin{tabular}{r|llllllllllll}\n",
       " card & reports & age & income & share & expenditure & owner & selfemp & dependents & months & majorcards & active\\\\\n",
       "\\hline\n",
       "\t yes         & 0           & 37.66667    & 4.5200      & 0.033269910 & 124.983300  & yes         & no          & 3           & 54          & 1           & 12         \\\\\n",
       "\t yes         & 0           & 33.25000    & 2.4200      & 0.005216942 &   9.854167  & no          & no          & 3           & 34          & 1           & 13         \\\\\n",
       "\t yes         & 0           & 33.66667    & 4.5000      & 0.004155556 &  15.000000  & yes         & no          & 4           & 58          & 1           &  5         \\\\\n",
       "\t yes         & 0           & 30.50000    & 2.5400      & 0.065213780 & 137.869200  & no          & no          & 0           & 25          & 1           &  7         \\\\\n",
       "\t yes         & 0           & 32.16667    & 9.7867      & 0.067050590 & 546.503300  & yes         & no          & 2           & 64          & 1           &  5         \\\\\n",
       "\t yes         & 0           & 23.25000    & 2.5000      & 0.044438400 &  91.996670  & no          & no          & 0           & 54          & 1           &  1         \\\\\n",
       "\\end{tabular}\n"
      ],
      "text/markdown": [
       "\n",
       "| card | reports | age | income | share | expenditure | owner | selfemp | dependents | months | majorcards | active |\n",
       "|---|---|---|---|---|---|---|---|---|---|---|---|\n",
       "| yes         | 0           | 37.66667    | 4.5200      | 0.033269910 | 124.983300  | yes         | no          | 3           | 54          | 1           | 12          |\n",
       "| yes         | 0           | 33.25000    | 2.4200      | 0.005216942 |   9.854167  | no          | no          | 3           | 34          | 1           | 13          |\n",
       "| yes         | 0           | 33.66667    | 4.5000      | 0.004155556 |  15.000000  | yes         | no          | 4           | 58          | 1           |  5          |\n",
       "| yes         | 0           | 30.50000    | 2.5400      | 0.065213780 | 137.869200  | no          | no          | 0           | 25          | 1           |  7          |\n",
       "| yes         | 0           | 32.16667    | 9.7867      | 0.067050590 | 546.503300  | yes         | no          | 2           | 64          | 1           |  5          |\n",
       "| yes         | 0           | 23.25000    | 2.5000      | 0.044438400 |  91.996670  | no          | no          | 0           | 54          | 1           |  1          |\n",
       "\n"
      ],
      "text/plain": [
       "  card reports age      income share       expenditure owner selfemp dependents\n",
       "1 yes  0       37.66667 4.5200 0.033269910 124.983300  yes   no      3         \n",
       "2 yes  0       33.25000 2.4200 0.005216942   9.854167  no    no      3         \n",
       "3 yes  0       33.66667 4.5000 0.004155556  15.000000  yes   no      4         \n",
       "4 yes  0       30.50000 2.5400 0.065213780 137.869200  no    no      0         \n",
       "5 yes  0       32.16667 9.7867 0.067050590 546.503300  yes   no      2         \n",
       "6 yes  0       23.25000 2.5000 0.044438400  91.996670  no    no      0         \n",
       "  months majorcards active\n",
       "1 54     1          12    \n",
       "2 34     1          13    \n",
       "3 58     1           5    \n",
       "4 25     1           7    \n",
       "5 64     1           5    \n",
       "6 54     1           1    "
      ]
     },
     "metadata": {},
     "output_type": "display_data"
    }
   ],
   "source": [
    "library(AER)\n",
    "data(\"CreditCard\")\n",
    "head(CreditCard)"
   ]
  },
  {
   "cell_type": "markdown",
   "metadata": {},
   "source": [
    "\n",
    "## Input and Output\n",
    "\n",
    "Raw data is often saved in ASCII file or Excel.\n",
    "I discourage the use of Excel spreadsheet in data analysis, because the underlying structure of an\n",
    "Excel file is too complicated for statistical software to read.\n",
    "I recommend the use of `csv` format, a plain ASCII file format.\n",
    "\n",
    "`read.table()` or `read.csv()` imports data from an ASCII file into an R session.\n",
    "`write.table()` or `write.csv()` exports the data in an R session to an ASCII file.\n",
    "\n",
    "**Example**\n",
    "\n",
    "Besides loading a data file on the local hard disk, We can directly download data from internet.\n",
    "Here we show how to retrieve the stock daily data of *Apple Inc.* from *Yahoo Finance*, and save the dataset locally. A package called `quantmod` is used."
   ]
  },
  {
   "cell_type": "code",
   "execution_count": 7,
   "metadata": {
    "inputHidden": false,
    "outputHidden": false
   },
   "outputs": [
    {
     "name": "stderr",
     "output_type": "stream",
     "text": [
      "Loading required package: xts\n",
      "\n",
      "Loading required package: TTR\n",
      "\n",
      "Version 0.4-0 included new data defaults. See ?getSymbols.\n",
      "\n",
      "'getSymbols' currently uses auto.assign=TRUE by default, but will\n",
      "use auto.assign=FALSE in 0.5-0. You will still be able to use\n",
      "'loadSymbols' to automatically load data. getOption(\"getSymbols.env\")\n",
      "and getOption(\"getSymbols.auto.assign\") will still be checked for\n",
      "alternate defaults.\n",
      "\n",
      "This message is shown once per session and may be disabled by setting \n",
      "options(\"getSymbols.warning4.0\"=FALSE). See ?getSymbols for details.\n",
      "\n",
      "\n"
     ]
    },
    {
     "data": {
      "text/html": [
       "'AAPL'"
      ],
      "text/latex": [
       "'AAPL'"
      ],
      "text/markdown": [
       "'AAPL'"
      ],
      "text/plain": [
       "[1] \"AAPL\""
      ]
     },
     "metadata": {},
     "output_type": "display_data"
    },
    {
     "name": "stdout",
     "output_type": "stream",
     "text": [
      "           AAPL.Open AAPL.High AAPL.Low AAPL.Close AAPL.Volume AAPL.Adjusted\n",
      "2017-01-03    115.80    116.33   114.76     116.15    28781900      110.6912\n",
      "2017-01-04    115.85    116.51   115.75     116.02    21118100      110.5673\n",
      "2017-01-05    115.92    116.86   115.81     116.61    22193600      111.1296\n",
      "2017-01-06    116.78    118.16   116.47     117.91    31751900      112.3685\n",
      "2017-01-09    117.95    119.43   117.94     118.99    33561900      113.3977\n",
      "2017-01-10    118.77    119.38   118.30     119.11    24462100      113.5121\n"
     ]
    }
   ],
   "source": [
    "library(quantmod)\n",
    "getSymbols(\"AAPL\", from = \"2017-01-01\", to = Sys.Date(), src = \"yahoo\")\n",
    "print( head(AAPL) )\n",
    "write.csv(AAPL, file = \"AAPL.csv\")"
   ]
  },
  {
   "cell_type": "markdown",
   "metadata": {},
   "source": [
    "**Example**: Get Federal Reserve data [http://research.stlouisfed.org/fred2/](http://research.stlouisfed.org/fred2/). For example, the following code in one line download the 10-Year Treasury Constant Maturity Rate (DGS10) and Consumer Price Index for All Urban Consumers: All Items (CPIAUCSL)."
   ]
  },
  {
   "cell_type": "code",
   "execution_count": 8,
   "metadata": {
    "inputHidden": false,
    "outputHidden": false
   },
   "outputs": [
    {
     "data": {
      "text/html": [
       "<ol class=list-inline>\n",
       "\t<li>'CPIAUCSL'</li>\n",
       "\t<li>'DGS10'</li>\n",
       "</ol>\n"
      ],
      "text/latex": [
       "\\begin{enumerate*}\n",
       "\\item 'CPIAUCSL'\n",
       "\\item 'DGS10'\n",
       "\\end{enumerate*}\n"
      ],
      "text/markdown": [
       "1. 'CPIAUCSL'\n",
       "2. 'DGS10'\n",
       "\n",
       "\n"
      ],
      "text/plain": [
       "[1] \"CPIAUCSL\" \"DGS10\"   "
      ]
     },
     "metadata": {},
     "output_type": "display_data"
    },
    {
     "data": {
      "image/png": "[encoded data removed]",
      "text/plain": [
       "plot without title"
      ]
     },
     "metadata": {
      "image/png": {
       "height": 420,
       "width": 420
      }
     },
     "output_type": "display_data"
    }
   ],
   "source": [
    "library(quantmod)\n",
    "getSymbols(Symbols = c(\"CPIAUCSL\", \"DGS10\"), env = .GlobalEnv, src=\"FRED\" ) \n",
    "# the line above will generate to objects \"CPIAUCSL\" and \"DGS10\"\n",
    "plot(DGS10)"
   ]
  },
  {
   "cell_type": "markdown",
   "metadata": {},
   "source": [
    "\n",
    "## Statistics\n",
    "\n",
    "R is a language created by statisticians.\n",
    "It has elegant built-in statistical functions.\n",
    "`p` (probability), `d` (density for a continuous random variable, or mass for a discrete random variable), `q` (quantile), `r` (random variable generator) are used ahead of the name of a probability distribution, such as `norm` (normal), `chisq` ($\\chi^2$), `t` (*t*),\n",
    "`weibull` (Weibull), `cauchy` (Cauchy), `binomial` (binomial), `pois` (Poisson), to name a few.\n",
    "\n",
    "**Example**\n",
    "\n",
    "This example illustrates the sampling error.\n",
    "\n",
    "1. Plot the density of $\\chi^2(3)$ over an equally spaced grid system `x_axis = seq(0.01, 15, by = 0.01)` (black line).\n",
    "2. Generate 1000 observations from $\\chi^2(3)$ distribution. Plot the kernel density, a nonparametric estimation of the density (red line).\n",
    "3. Calculate the 95-th quantile and the empirical probability of observing a value greater than the 95-th quantile.\n",
    "In population, this value should be 5%. What is the number in this experiment?\n"
   ]
  },
  {
   "cell_type": "code",
   "execution_count": 9,
   "metadata": {
    "inputHidden": false,
    "outputHidden": false
   },
   "outputs": [
    {
     "data": {
      "text/html": [
       "0.039"
      ],
      "text/latex": [
       "0.039"
      ],
      "text/markdown": [
       "0.039"
      ],
      "text/plain": [
       "[1] 0.039"
      ]
     },
     "metadata": {},
     "output_type": "display_data"
    },
    {
     "data": {
      "image/png": "[encoded data removed]",
      "text/plain": [
       "plot without title"
      ]
     },
     "metadata": {
      "image/png": {
       "height": 420,
       "width": 420
      }
     },
     "output_type": "display_data"
    }
   ],
   "source": [
    "x_axis = seq(0.01, 15, by = 0.01)\n",
    "\n",
    "y = dchisq(x_axis, df = 3)\n",
    "plot(y = y, x=x_axis, type = \"l\", xlab = \"x\", ylab = \"density\")\n",
    "z = rchisq(1000, df = 3)\n",
    "lines( density(z), col = \"red\")\n",
    "crit = qchisq(.95, df = 3)\n",
    "\n",
    "mean( z > crit )"
   ]
  },
  {
   "cell_type": "markdown",
   "metadata": {},
   "source": [
    "\n",
    "\n",
    "## User-defined Function\n",
    "\n",
    "R has numerous built-in functions. However, in practice we will almost always have some  \n",
    "DIY functionality to be used repeatedly. It is highly recommended to encapsulate it into a user-defined function.\n",
    "There are important advantages:\n",
    "\n",
    "1. In the developing stage, it allows us to focus on a small chunk of code. It cuts an overwhelmingly big project into manageable pieces.\n",
    "2. A long script can have hundreds or thousands of variables. Variables defined inside a function are local. They will not be mixed up with those outside of a function. Only the input and the output of a function have interaction with the outside world.\n",
    "3. If a revision is necessary, We just need to change one place. We don't have to repeat the work in every place where it is invoked.\n",
    "\n",
    "The format of a user-defined function in R is\n",
    "\n",
    "```\n",
    "function_name = function(input) {\n",
    "  expressions\n",
    "  return(output)\n",
    "}\n",
    "```\n",
    "\n",
    "**Example**\n",
    "\n",
    "If the central limit theorem is applicable, then\n",
    "we can calculate the 95% two-sided asymptotic confidence interval as\n",
    "$$\\left(\\hat{\\mu} - \\frac{1.96}{\\sqrt{n}} \\hat{\\sigma}, \\hat{\\mu} + \\frac{1.96}{\\sqrt{n}} \\hat{\\sigma} \\right)$$\n",
    "from a given sample.\n",
    "It is an easy job, but I am not aware there is a built-in function in R to do this.\n"
   ]
  },
  {
   "cell_type": "code",
   "execution_count": 10,
   "metadata": {
    "inputHidden": false,
    "outputHidden": false
   },
   "outputs": [],
   "source": [
    "CI = function(x){\n",
    "  # x is a vector of random variables\n",
    "\n",
    "  n = length(x)\n",
    "  mu = mean(x)\n",
    "  sig = sd(x)\n",
    "  upper = mu + 1.96/sqrt(n) * sig\n",
    "  lower = mu - 1.96/sqrt(n) * sig\n",
    "  return( list( lower = lower, upper = upper) )\n",
    "}"
   ]
  },
  {
   "cell_type": "markdown",
   "metadata": {
    "inputHidden": false,
    "outputHidden": false
   },
   "source": [
    "## Flow Control\n",
    "\n",
    "Flow control is common in all programming languages.\n",
    "`if` is used for choice, and `for` or `while` is used for loops.\n",
    "\n",
    "**Example**\n",
    "\n",
    "Calculate the empirical coverage probability of a Poisson distribution of degrees of freedom 2.\n",
    "We conduct this experiment for 1000 times."
   ]
  },
  {
   "cell_type": "code",
   "execution_count": 11,
   "metadata": {
    "inputHidden": false,
    "outputHidden": false
   },
   "outputs": [
    {
     "data": {
      "text/html": [
       "0.944"
      ],
      "text/latex": [
       "0.944"
      ],
      "text/markdown": [
       "0.944"
      ],
      "text/plain": [
       "[1] 0.944"
      ]
     },
     "metadata": {},
     "output_type": "display_data"
    },
    {
     "name": "stdout",
     "output_type": "stream",
     "text": [
      "Time difference of 0.1785362 secs\n"
     ]
    }
   ],
   "source": [
    "Rep = 1000\n",
    "sample_size = 100\n",
    "capture = rep(0, Rep)\n",
    "\n",
    "\n",
    "pts0 = Sys.time() # check time\n",
    "for (i in 1:Rep){\n",
    "  mu = 2\n",
    "  x = rpois(sample_size, mu)\n",
    "  bounds = CI(x)\n",
    "  capture[i] = ( ( bounds$lower <= mu  ) & (mu <= bounds$upper) )\n",
    "}\n",
    "mean(capture) # empirical size\n",
    "pts1 = Sys.time() - pts0 # check time elapse\n",
    "print(pts1)"
   ]
  },
  {
   "cell_type": "markdown",
   "metadata": {
    "inputHidden": false,
    "outputHidden": false
   },
   "source": [
    "\n",
    "## Statistical Model\n",
    "\n",
    "Statistical models are formulated as `y~x`, where `y` on the left-hand side is the dependent variable,\n",
    "and `x` on the right-hand side is the explanatory variable.\n",
    "The built-in OLS function is `lm`. It is called by `lm(y~x, data = data_frame)`.\n",
    "\n",
    "All built-in regression functions in R share the same structure. Once one type of regression is understood,\n",
    "it is easy to extend to other regressions.\n",
    "\n",
    "### A Linear Regression Example\n",
    "\n",
    "This is a toy example with simulated data."
   ]
  },
  {
   "cell_type": "code",
   "execution_count": 12,
   "metadata": {
    "inputHidden": false,
    "outputHidden": false
   },
   "outputs": [
    {
     "data": {
      "text/plain": [
       "\n",
       "Call:\n",
       "lm(formula = y ~ x)\n",
       "\n",
       "Residuals:\n",
       "     Min       1Q   Median       3Q      Max \n",
       "-2.12256 -0.68830  0.03699  0.61869  2.08061 \n",
       "\n",
       "Coefficients:\n",
       "            Estimate Std. Error t value Pr(>|t|)    \n",
       "(Intercept) -0.01574    0.08741   -0.18    0.857    \n",
       "x            1.06261    0.07748   13.71   <2e-16 ***\n",
       "---\n",
       "Signif. codes:  0 '***' 0.001 '**' 0.01 '*' 0.05 '.' 0.1 ' ' 1\n",
       "\n",
       "Residual standard error: 0.874 on 98 degrees of freedom\n",
       "Multiple R-squared:  0.6574,\tAdjusted R-squared:  0.6539 \n",
       "F-statistic: 188.1 on 1 and 98 DF,  p-value: < 2.2e-16\n"
      ]
     },
     "metadata": {},
     "output_type": "display_data"
    }
   ],
   "source": [
    "T = 100\n",
    "p = 1\n",
    "\n",
    "b0 = 1\n",
    "# Generate data\n",
    "x = matrix( rnorm(T*p), T, 1)\n",
    "y = x %*% b0 + rnorm(T)\n",
    "\n",
    "# Linear Model\n",
    "result = lm(y ~ x)\n",
    "summary(result)"
   ]
  },
  {
   "cell_type": "markdown",
   "metadata": {
    "inputHidden": false,
    "outputHidden": false
   },
   "source": [
    "\n",
    "The `result` object is a list containing the regression results. As shown in the results, we can easily read the estimated coefficients, t-test results, F-test results, and the R-sqaure.\n",
    "\n",
    "We can plot the true value of $y$ and fitted value to examine whether the regression model fit the data well."
   ]
  },
  {
   "cell_type": "code",
   "execution_count": 13,
   "metadata": {
    "inputHidden": false,
    "outputHidden": false
   },
   "outputs": [
    {
     "data": {
      "image/png": "[encoded data removed]",
      "text/plain": [
       "Plot with title \"Fitted Value\""
      ]
     },
     "metadata": {
      "image/png": {
       "height": 420,
       "width": 420
      }
     },
     "output_type": "display_data"
    }
   ],
   "source": [
    "plot(result$fitted.values, col = 'red', type = 'l', xlab = 'x', ylab = 'y',\n",
    "     main = 'Fitted Value')\n",
    "lines(y, col = 'blue', type = 'l', lty = 2)\n",
    "legend('bottomleft', legend=c(\"Fitted Value\", \"True Value\"),\n",
    "       col=c(\"red\", \"blue\"), lty=1:2, cex = 0.75)"
   ]
  },
  {
   "cell_type": "markdown",
   "metadata": {},
   "source": [
    "Then we plot the best fitted line."
   ]
  },
  {
   "cell_type": "code",
   "execution_count": 14,
   "metadata": {
    "inputHidden": false,
    "outputHidden": false
   },
   "outputs": [
    {
     "data": {
      "image/png": "[encoded data removed]",
      "text/plain": [
       "Plot with title \"Fitted Line\""
      ]
     },
     "metadata": {
      "image/png": {
       "height": 420,
       "width": 420
      }
     },
     "output_type": "display_data"
    }
   ],
   "source": [
    "plot( y = y, x = x, xlab = \"x\", ylab = \"y\", main = \"Fitted Line\")\n",
    "abline( a= result$coefficients[1], b = result$coefficients[2])\n",
    "abline( a = 0, b = b0, col = \"red\")\n",
    "\n",
    "legend('bottomright', legend=c(\"Fitted Line\", \"True Coef\"),\n",
    "       col=c(\"black\", \"red\"), lty=c(1,1), cex = 0.75)"
   ]
  },
  {
   "cell_type": "markdown",
   "metadata": {
    "inputHidden": false,
    "outputHidden": false
   },
   "source": [
    "Here we give another example about the relationship between the height and weight of women.\n",
    "The women dataset is from the package `datasets`, which is a bulit-in package shipped with R installation. \n",
    "This package contains a variety of datasets. For a complete list, use `library(help = \"datasets\")`\n"
   ]
  },
  {
   "cell_type": "code",
   "execution_count": 15,
   "metadata": {
    "inputHidden": false,
    "outputHidden": false
   },
   "outputs": [
    {
     "data": {
      "text/plain": [
       "\n",
       "Call:\n",
       "lm(formula = height ~ weight, data = women)\n",
       "\n",
       "Residuals:\n",
       "     Min       1Q   Median       3Q      Max \n",
       "-0.83233 -0.26249  0.08314  0.34353  0.49790 \n",
       "\n",
       "Coefficients:\n",
       "             Estimate Std. Error t value Pr(>|t|)    \n",
       "(Intercept) 25.723456   1.043746   24.64 2.68e-12 ***\n",
       "weight       0.287249   0.007588   37.85 1.09e-14 ***\n",
       "---\n",
       "Signif. codes:  0 '***' 0.001 '**' 0.01 '*' 0.05 '.' 0.1 ' ' 1\n",
       "\n",
       "Residual standard error: 0.44 on 13 degrees of freedom\n",
       "Multiple R-squared:  0.991,\tAdjusted R-squared:  0.9903 \n",
       "F-statistic:  1433 on 1 and 13 DF,  p-value: 1.091e-14\n"
      ]
     },
     "metadata": {},
     "output_type": "display_data"
    },
    {
     "data": {
      "text/plain": [
       "\n",
       "Call:\n",
       "lm(formula = height ~ weight + I(weight^2), data = women)\n",
       "\n",
       "Residuals:\n",
       "      Min        1Q    Median        3Q       Max \n",
       "-0.105338 -0.035764 -0.004898  0.049430  0.141593 \n",
       "\n",
       "Coefficients:\n",
       "              Estimate Std. Error t value Pr(>|t|)    \n",
       "(Intercept) -1.175e+01  1.720e+00   -6.83 1.82e-05 ***\n",
       "weight       8.343e-01  2.502e-02   33.35 3.36e-13 ***\n",
       "I(weight^2) -1.973e-03  9.014e-05  -21.89 4.84e-11 ***\n",
       "---\n",
       "Signif. codes:  0 '***' 0.001 '**' 0.01 '*' 0.05 '.' 0.1 ' ' 1\n",
       "\n",
       "Residual standard error: 0.07158 on 12 degrees of freedom\n",
       "Multiple R-squared:  0.9998,\tAdjusted R-squared:  0.9997 \n",
       "F-statistic: 2.732e+04 on 2 and 12 DF,  p-value: < 2.2e-16\n"
      ]
     },
     "metadata": {},
     "output_type": "display_data"
    }
   ],
   "source": [
    "reg1 = lm(height~weight, data=women)\n",
    "\n",
    "# multivariate \n",
    "reg2 = lm(height~weight+I(weight^2),data=women)\n",
    "# \"weight^2\" is a square term.\n",
    "# \"I()\" is used to inhibit the formula operator \"+\" from being interpreted as an arithmetical one.\n",
    "\n",
    "summary(reg1)\n",
    "summary(reg2)"
   ]
  },
  {
   "cell_type": "code",
   "execution_count": null,
   "metadata": {
    "inputHidden": false,
    "outputHidden": false
   },
   "outputs": [],
   "source": []
  }
 ],
 "metadata": {
  "kernel_info": {
   "name": "ir"
  },
  "kernelspec": {
   "display_name": "R",
   "language": "R",
   "name": "ir"
  },
  "language_info": {
   "codemirror_mode": "r",
   "file_extension": ".r",
   "mimetype": "text/x-r-source",
   "name": "R",
   "pygments_lexer": "r",
   "version": "3.5.3"
  },
  "nteract": {
   "version": "0.11.6"
  }
 },
 "nbformat": 4,
 "nbformat_minor": 2
}
