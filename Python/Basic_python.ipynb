{
  "cells": [
    {
      "cell_type": "markdown",
      "source": [
        "## Help System\n",
        "\n",
        "The help system is the first thing we must learn for a new language. In Python, if we know the exact name of a\n",
        "function and want to check its usage, we can call \n",
        "`help(function_name)`.\n",
        "This function returns the help related to python module, object or method if it is called with respective argument; but without any argument it will return the help related to currently running programming module.\n",
        "\n",
        "Example: `help()`, `help(str)`\n",
        "\n",
        "* `=` assigns the value on its right-hand side to a self-defined variable name on its left-hand side.\n",
        "* Binary arithmetic operators `+`, `-`, `*`, `/`, and `\\` are only performed to numbers. To do these operations element-wisely, use the `zip()` function or modules like `numpy`.\n",
        "* Logical operators: `not`, `and`, `or`. Logical values: `True`, `False`.\n",
        "\nPython, especially **Pandas**, **Numpy**, and **Scikit-Learn**, mark missing values as NaN."
      ],
      "metadata": {}
    },
    {
      "cell_type": "markdown",
      "source": [
        "## Data types in Python\n",
        "\n",
        "There are five standard data types in Python:\n",
        "\n",
        "* Numbers\n",
        "* String\n",
        "* List\n",
        "* Tuple\n",
        "* Dictionary\n",
        "\n",
        "Unlike C, Python does not require explicit type declaration. It sets the variable type based on the value that is assigned to it. The variable type will change along with the change of the variable value.\n",
        "\nExample:"
      ],
      "metadata": {}
    },
    {
      "cell_type": "code",
      "source": [
        "var = 11 #The data type of var is number\n",
        "var = 'python' #The 'var' variable is now of string type."
      ],
      "outputs": [],
      "execution_count": 1,
      "metadata": {}
    },
    {
      "cell_type": "markdown",
      "source": [
        "To find the type of a certain variable, use the function `type()`.\n",
        "\n",
        "### Numbers\n",
        "\n",
        "* int: `a = 10` #Signed integer\n",
        "* long: `a = 123L` #(L) stands for long integers; they can also be represented in octal and hexadecimal\n",
        "* float: `a = 45.67` #(.) marks floating point real values\n",
        "* complex: `a = 1 + 1J` #(J) is the imaginary part"
      ],
      "metadata": {}
    },
    {
      "cell_type": "markdown",
      "source": [
        "### String\n",
        "\n",
        "String variables are enclosed by quotes. \n",
        "Python use single quotes ' double quotes \" and triple quotes \"\"\" to denote literal strings. The triple quoted string \"\"\" will automatically continue across the end of the line statement.\n",
        "\nExample:"
      ],
      "metadata": {}
    },
    {
      "cell_type": "code",
      "source": [
        "var1 = 'hello world'\n",
        "var2 = \"I'm good.\"\n",
        "var3 = \"\"\"This is a string that will\n",
        "span across multiple lines.\"\"\""
      ],
      "outputs": [],
      "execution_count": 2,
      "metadata": {}
    },
    {
      "cell_type": "markdown",
      "source": [
        "### List\n",
        "\n",
        "Declare list variables using brackets `[]`. It can contain a series of values of different types.\n",
        "\n",
        "All lists in Python are **zero-based** indexed. To combine two or more lists into a long one, use the method `extend()`.\n",
        "\nExample:"
      ],
      "metadata": {}
    },
    {
      "cell_type": "code",
      "source": [
        "A = [] #This is a blank list variable\n",
        "B = [1, 23, 'bye'] #Lists can contain different variable types.\n",
        "C = [[1, 2], ['SEE'], []]\n",
        "s1 = [1, 2, 3]\n",
        "s2 = [4, 5]\n",
        "s1.extend(s2) # extend is to add the elements in the list at the end of s1\n",
        "s1.append(s2) # append is to add the list s2 at the end of s1\n",
        "\n",
        "# originally JY wrote s3 = s1.extend(s2) . # it was wrong. \n",
        "# The method was applied to an object. Cannot assign it to a new object.\n",
        "# #s3 is now [1, 2, 3, 4, 5]\n",
        "\n",
        "kk = zip([1,2,3], [4,5] ); list( kk )\n",
        "kk = range(10); list(kk) # the start index is 0, not 1!"
      ],
      "outputs": [
        {
          "output_type": "execute_result",
          "execution_count": 3,
          "data": {
            "text/plain": [
              "[0, 1, 2, 3, 4, 5, 6, 7, 8, 9]"
            ]
          },
          "metadata": {}
        }
      ],
      "execution_count": 3,
      "metadata": {}
    },
    {
      "cell_type": "markdown",
      "source": [
        "Logical list operation:"
      ],
      "metadata": {}
    },
    {
      "cell_type": "code",
      "source": [
        "logi_1 = [True, True, False]\n",
        "logi_2 = [False, True, True]\n",
        "logi_12 =  logi_1 and logi_2\n",
        "\n",
        "import numpy as np\n",
        "logi_comb = np.concatenate([logi_1, logi_2])\n",
        "# this is equivalent to logi_1+logi_2\n",
        "\nlogi_34 = all( [logi_1, logi_2] )"
      ],
      "outputs": [],
      "execution_count": 4,
      "metadata": {}
    },
    {
      "cell_type": "markdown",
      "source": [
        "### Tuple\n",
        "\n",
        "Define tuples using parenthesis ( ). Tuples are a group of values like a list but they are fixed in size once they are assigned. Elements cannot be added to or removed from a tuple, therefore tuples have no `append` or `remove` method.\n",
        "\nExample:"
      ],
      "metadata": {}
    },
    {
      "cell_type": "code",
      "source": [
        "myTuple = (1, 23, 'bye')"
      ],
      "outputs": [],
      "execution_count": 5,
      "metadata": {}
    },
    {
      "cell_type": "markdown",
      "source": [
        "### Dictionary\n",
        "\n",
        "Dictionaries in Python are lists of `Key:Value` pairs. It allows the use of a key to access its members. In a dictionary the key must be unique. Dictionaries are created by using curly braces { } with pairs separated by comma `,` and the key values associated with a colon `:`.\n",
        "\nExample:"
      ],
      "metadata": {}
    },
    {
      "cell_type": "code",
      "source": [
        "employerAge = {'Smith':35, 'Clinton':50}\n",
        "\n",
        "employerAge['Smith'] = 66 #set the value associated with the 'smith' key to 66\n",
        "\nprint(employerAge)"
      ],
      "outputs": [
        {
          "output_type": "stream",
          "name": "stdout",
          "text": [
            "{'Smith': 66, 'Clinton': 50}\n"
          ]
        }
      ],
      "execution_count": 6,
      "metadata": {}
    },
    {
      "cell_type": "markdown",
      "source": [
        "## Array and Matrix\n",
        "\n",
        "Python does not have built-in support for arrays, but Python lists can be used instead. Matrix can be implemented as 2-dimensional array.\n",
        "\n",
        "A more convenient option to implement array and matrix arithmetic is to use the module `numpy`.\n",
        "\n",
        "array/matrix arithmetic for numpy arrays/matrix:\n",
        "\n",
        "+, -, \\*, /, //, \\*\\*,  %\n",
        "\n",
        "element-by-element (except that * for numpy matrix is matrix multiplication). Unlike R, binary operations involving two objects of different length is not allowed in Python. \n",
        "\n",
        "* If `X` and `Y` are two matrices (`np.matrix()`), then `X * Y` denotes the matrix multiplication. \n",
        "* If `X` and `Y` are just normal arrays(np.array()), X * Y is element-by-element multiplication.\n",
        "\nExample:"
      ],
      "metadata": {}
    },
    {
      "cell_type": "code",
      "source": [
        "import numpy as np\n",
        "\n",
        "x = np.array([1, 5, 2])\n",
        "\n",
        "y = np.array([7, 4, 1])\n",
        "\n",
        "x + y #[8, 9, 3]\n",
        "\n",
        "x - y #[-6, 1, 1]\n",
        "\n",
        "x * y #[7, 20, 2]\n",
        "\n",
        "x // y #Integer division: [0, 1, 2]\n",
        "\n",
        "x % y #[1, 1, 0]\n",
        "\n",
        "X = np.array([[2, 3], [3, 5]])\n",
        "\n",
        "Y = np.array([[1, 2], [5, -1]])\n",
        "\n",
        "X * Y #element-wise multiplication: array([ [2, 6], [15, -5]])\n",
        "\n",
        "np.dot(X, Y) #matrix multiplication: matrix([ [17, 1], [28, 1]])\n",
        "np.mat(X) * np.mat(Y) #matrix multiplication: matrix([ [17, 1], [28, 1]])\n",
        "\n",
        "X = np.mat([[2, 3], [3, 5]])\n",
        "Y = np.mat([[1, 2], [5, -1]])\n",
        "X * Y #matrix multiplication: matrix([ [17, 1], [28, 1]])"
      ],
      "outputs": [
        {
          "output_type": "execute_result",
          "execution_count": 7,
          "data": {
            "text/plain": [
              "matrix([[17,  1],\n",
              "        [28,  1]])"
            ]
          },
          "metadata": {}
        }
      ],
      "execution_count": 7,
      "metadata": {}
    },
    {
      "cell_type": "markdown",
      "source": [
        "Example:\n",
        "\nStep 1: We need data `Y` and `X` to run OLS. We simulate an artificial dataset."
      ],
      "metadata": {}
    },
    {
      "cell_type": "code",
      "source": [
        "#simulate data \n",
        "\n",
        "import random\n",
        "import numpy as np\n",
        "\n",
        "np.random.seed(111)\n",
        "n = 100\n",
        "b0 = np.mat( [[1], [1]] )\n",
        "e = np.random.normal(size = (n, 1))\n",
        "X = np.column_stack((np.full((n, 1), 1), np.random.normal(size = (n, 1))))\n",
        "Y = np.dot(X, b0) + e"
      ],
      "outputs": [],
      "execution_count": 8,
      "metadata": {}
    },
    {
      "cell_type": "markdown",
      "source": [
        "Step 2: translate the formula to code"
      ],
      "metadata": {}
    },
    {
      "cell_type": "code",
      "source": [
        "#OLS estimation\n",
        "bhat = np.linalg.solve( X.T @ X, X.T @ Y) # estimation"
      ],
      "outputs": [],
      "execution_count": 9,
      "metadata": {}
    },
    {
      "cell_type": "markdown",
      "source": [
        "Step 3 (additional): plot the regression graph with the scatter points and the regression line. Further compare the regression line (black) with the true coefficient line (red)."
      ],
      "metadata": {}
    },
    {
      "cell_type": "code",
      "source": [
        "#plot\n",
        "\n",
        "import matplotlib.pyplot as plt\n",
        "\n",
        "plt.plot(X[:, 1], Y, 'o')\n",
        "plt.plot(X[:, 1], np.dot(X, b0), color='red', linestyle='-')\n",
        "plt.plot(X[:, 1], np.dot(X, bhat), color='black', linestyle='-')\n",
        "plt.title('regression')\n",
        "plt.xlabel('X')\n",
        "plt.ylabel('Y')\n",
        "plt.axhline(0, color = 'black', linestyle = 'dashed')\n",
        "plt.axvline(0, color = 'black', linestyle = 'dashed')\n",
        "\nplt.show()"
      ],
      "outputs": [
        {
          "output_type": "display_data",
          "data": {
            "text/plain": [
              "<matplotlib.figure.Figure at 0x1f749a83a20>"
            ]
          },
          "metadata": {}
        }
      ],
      "execution_count": 10,
      "metadata": {}
    },
    {
      "cell_type": "markdown",
      "source": [
        "Step 4:"
      ],
      "metadata": {}
    },
    {
      "cell_type": "code",
      "source": [
        "#calculate the t-value\n",
        "import math\n",
        "\n",
        "bhat2 = bhat[1, 0] # the row index is 1 and the column index is 0 \n",
        "# in R, this shoulbe hat bhat[ 2,1 ]\n",
        "e_hat = Y - X @ bhat\n",
        "sigma_hat_square = e_hat.T @ e_hat / (n - 2) # .T is the method of transpose\n",
        "Sigma_B = np.linalg.inv( X.T @ X ) * np.array( sigma_hat_square )\n",
        "t_value_2 = (bhat2 - b0[1, 0]) / math.sqrt(Sigma_B[1, 1])\n",
        "\nprint(t_value_2)"
      ],
      "outputs": [
        {
          "output_type": "stream",
          "name": "stdout",
          "text": [
            "-0.7771772903170131\n"
          ]
        }
      ],
      "execution_count": 11,
      "metadata": {}
    },
    {
      "cell_type": "markdown",
      "source": [
        "## Input and Output\n",
        "\n",
        "To read and write csv files in Python, use the pandas library.\n",
        "\n",
        "Example:\n",
        "```\n",
        "import pandas as pd\n",
        "sample_data = pd.read_csv('source.csv')\n",
        "sample_data = sample_data.dropna()\n",
        "pd.to_csv(sample_data, file = 'out.csv')\n",
        "```"
      ],
      "metadata": {}
    },
    {
      "cell_type": "markdown",
      "source": [
        "## Statistics\n",
        "\n",
        "To implement most of the statistical tasks, use the package SciPy. Commonly used probability distributions can be found in the \n",
        "subpackage SciPy.stats. If you hope to draw the kernel density plot for a given set of data, use the seaborn package.\n",
        "\nExample:"
      ],
      "metadata": {}
    },
    {
      "cell_type": "code",
      "source": [
        "import seaborn as sns\n",
        "from scipy import stats\n",
        "import numpy as np\n",
        "import matplotlib.pyplot as plt\n",
        "\n",
        "x = np.linspace(0.01, 16, num = 1600)\n",
        "y = stats.chi2.pdf(x, 3)\n",
        "z = stats.chi2.rvs(3, size = 1000)\n",
        "plt.plot(x, y, linestyle = '-', color = 'black')\n",
        "sns.distplot(z, hist = False, color = 'red')\n",
        "plt.xlim(-0.5, 16)\n",
        "plt.ylim(-0.01, 0.25)\n",
        "plt.xlabel('X')\n",
        "plt.ylabel('density')\n",
        "plt.show()\n",
        "\n",
        "crit = stats.chi2.ppf(q = 0.95, df = 3)\n",
        "\nprint(len([i for i in z if i > crit]) / len(z))"
      ],
      "outputs": [
        {
          "output_type": "display_data",
          "data": {
            "image/png": "[encoded data removed]",
            "text/plain": [
              "<matplotlib.figure.Figure at 0x1f7496f17f0>"
            ]
          },
          "metadata": {}
        },
        {
          "output_type": "stream",
          "name": "stdout",
          "text": [
            "0.053\n"
          ]
        }
      ],
      "execution_count": 12,
      "metadata": {}
    },
    {
      "cell_type": "markdown",
      "source": [
        "## User-defined function\n",
        "\n",
        "The format of a user-defined function in Python is\n",
        "```\n",
        "def function_name(input):\n",
        "\n",
        "  expressions \n",
        "  return output\n",
        "```\n",
        "\n",
        "The beginning of the main function is written as follows:\n",
        "\n",
        "```\n",
        "if \\__name__ == '\\__main__':\n",
        "\n",
        "  expressions\n",
        "  function_name\n",
        "```\n",
        "\nExample:"
      ],
      "metadata": {}
    },
    {
      "cell_type": "code",
      "source": [
        "#construct confidence interval\n",
        "\n",
        "import math\n",
        "import statistics\n",
        "\n",
        "def CI(x):\n",
        "\n",
        "  #x is a vector of random variables\n",
        "  n = len(x)  \n",
        "  \n",
        "  x = np.array( x, dtype = float) \n",
        "    # make sure it will work for both discrete rv and continuous rv\n",
        "    # THIS LINE IS CRUCIAL; otherwise the result is wrong\n",
        "    # But I still don't understand the behavior without this line\n",
        "    # The rejection rate is supposed to be 0.95\n",
        "  mu = statistics.mean(x)\n",
        "  sig = statistics.stdev(x)\n",
        "  upper = mu + 1.96 * sig / math.sqrt(n) \n",
        "  lower = mu - 1.96 * sig / math.sqrt(n)\n",
        "  return {'lower': lower, 'upper': upper}"
      ],
      "outputs": [],
      "execution_count": 2,
      "metadata": {}
    },
    {
      "cell_type": "markdown",
      "source": [
        "## Flow Control\n",
        "\nExample"
      ],
      "metadata": {}
    },
    {
      "cell_type": "code",
      "source": [
        "\n",
        "import statistics\n",
        "from scipy import stats\n",
        "import numpy as np\n",
        "\n",
        "Rep = 1000\n",
        "sample_size = 50\n",
        "capture = [0] * Rep\n",
        "\n",
        "# random.seed(3)\n",
        "# start the iteration\n",
        "for i in range(Rep):\n",
        "  mu = 5\n",
        "  # x = stats.norm.rvs(mu, size = sample_size, random_state = None ) # generate random variables \n",
        "  x = stats.poisson.rvs(mu = mu, size = sample_size, random_state = None ) # generate random variables \n",
        "    \n",
        "  bounds = CI(x)\n",
        "\n",
        "  if (bounds['lower'] <= mu and mu <= bounds['upper']):\n",
        "    capture[i] = 1\n",
        "\n",
        "print(statistics.mean(capture))\n",
        "\n"
      ],
      "outputs": [
        {
          "output_type": "stream",
          "name": "stdout",
          "text": [
            "0.945\n"
          ]
        }
      ],
      "execution_count": 5,
      "metadata": {}
    },
    {
      "cell_type": "code",
      "source": [
        "## Statistical model\n",
        "import numpy as np\n",
        "from scipy import stats\n",
        "import statsmodels.api as sm\n",
        "import matplotlib.pyplot as plt\n",
        "\n",
        "T = 100\n",
        "p = 2\n",
        "b0 = np.mat( [[1], [2]] )\n",
        "\n",
        "#generate data\n",
        "\n",
        "x = stats.norm.rvs(size = (T, p) ) \n",
        "y = x @ b0 + stats.norm.rvs(size = (T , 1) )\n",
        "# this y is a matrix\n",
        "\n",
        "# or y = np.(x, b0) + stats.norm.rvs(size = T ) \n",
        "# this y is an array\n",
        "\n\n",
        "#Linear model\n",
        "\n",
        "model = sm.OLS(y, x)\n",
        "results = model.fit()\n",
        "print(results.summary())\n",
        "\n\n",
        "plt.plot(results.fittedvalues, color = 'red', label = 'Fitted Value')\n",
        "plt.plot(y, color = 'blue', linestyle = 'dashed', label = 'True Value')\n",
        "plt.title('Fitted Value')\n",
        "plt.xlabel('x')\n",
        "plt.ylabel('y')\n",
        "plt.legend()\n",
        "plt.show()"
      ],
      "outputs": [
        {
          "output_type": "stream",
          "name": "stderr",
          "text": [
            "C:\\Anaconda3\\lib\\site-packages\\statsmodels\\compat\\pandas.py:56: FutureWarning: The pandas.core.datetools module is deprecated and will be removed in a future version. Please use the pandas.tseries module instead.\n",
            "  from pandas.core import datetools\n"
          ]
        },
        {
          "output_type": "stream",
          "name": "stdout",
          "text": [
            "                            OLS Regression Results                            \n",
            "==============================================================================\n",
            "Dep. Variable:                      y   R-squared:                       0.845\n",
            "Model:                            OLS   Adj. R-squared:                  0.842\n",
            "Method:                 Least Squares   F-statistic:                     267.9\n",
            "Date:                Thu, 12 Jul 2018   Prob (F-statistic):           1.87e-40\n",
            "Time:                        23:52:35   Log-Likelihood:                -141.96\n",
            "No. Observations:                 100   AIC:                             287.9\n",
            "Df Residuals:                      98   BIC:                             293.1\n",
            "Df Model:                           2                                         \n",
            "Covariance Type:            nonrobust                                         \n",
            "==============================================================================\n",
            "                 coef    std err          t      P>|t|      [0.025      0.975]\n",
            "------------------------------------------------------------------------------\n",
            "x1             0.9846      0.090     10.963      0.000       0.806       1.163\n",
            "x2             1.9956      0.106     18.804      0.000       1.785       2.206\n",
            "==============================================================================\n",
            "Omnibus:                        0.102   Durbin-Watson:                   1.698\n",
            "Prob(Omnibus):                  0.950   Jarque-Bera (JB):                0.252\n",
            "Skew:                           0.054   Prob(JB):                        0.882\n",
            "Kurtosis:                       2.779   Cond. No.                         1.24\n",
            "==============================================================================\n",
            "\n",
            "Warnings:\n",
            "[1] Standard Errors assume that the covariance matrix of the errors is correctly specified.\n"
          ]
        },
        {
          "output_type": "display_data",
          "data": {
            "image/png": "[encoded data removed]",
            "text/plain": [
              "<matplotlib.figure.Figure at 0x1f74d498668>"
            ]
          },
          "metadata": {}
        }
      ],
      "execution_count": 15,
      "metadata": {}
    },
    {
      "cell_type": "code",
      "source": [
        "plt.scatter(x[:,0], np.array(y), color = 'black', marker = 'o')\n",
        "# Python is quite restrict on the consistency of array and matrix\n",
        "plt.title('Fitted Value')\n",
        "plt.xlabel('x')\n",
        "plt.ylabel('y')\n",
        "plt.show()  "
      ],
      "outputs": [
        {
          "output_type": "display_data",
          "data": {
            "image/png": "[encoded data removed]",
            "text/plain": [
              "<matplotlib.figure.Figure at 0x1f74971d1d0>"
            ]
          },
          "metadata": {}
        }
      ],
      "execution_count": 17,
      "metadata": {}
    },
    {
      "cell_type": "markdown",
      "source": [
        "### Notes\n",
        "\n",
        "Though the underlying procedures are the same, there is difference from R.\n",
        "\n",
        "The most tricky part is the index. I have never used a programming language with index starting from 0. \n",
        "\nWhen dealing with vectors and matrices, Python takes care of the shape of the array and differentiates array and matrix. Instead, R keeps the shape of the vector quite loose, while Matlab treats everything as a matrix. Python is in between the two extremes, which has some potential advantage."
      ],
      "metadata": {}
    }
  ],
  "metadata": {
    "kernel_info": {
      "name": "python3"
    },
    "kernelspec": {
      "name": "python3",
      "language": "python",
      "display_name": "Python 3"
    },
    "language_info": {
      "name": "python",
      "version": "3.6.4",
      "mimetype": "text/x-python",
      "codemirror_mode": {
        "name": "ipython",
        "version": 3
      },
      "pygments_lexer": "ipython3",
      "nbconvert_exporter": "python",
      "file_extension": ".py"
    },
    "nteract": {
      "version": "0.9.1"
    }
  },
  "nbformat": 4,
  "nbformat_minor": 2
}