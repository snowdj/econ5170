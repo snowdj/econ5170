{
 "cells": [
  {
   "cell_type": "markdown",
   "metadata": {},
   "source": [
    "# Lecture 4: Optimization\n",
    "## ECON5170 Computational Methods in Economics\n",
    "#### Author: Zhentao Shi\n",
    "#### Date: July 2019"
   ]
  },
  {
   "cell_type": "markdown",
   "metadata": {},
   "source": [
    "# Numerical Optimization\n",
    "\n",
    "Optimization is the key step to carry out econometric extremum estimation.\n",
    "A general optimization problem is formulated as\n",
    "$$\\min_{\\theta \\in \\Theta } f(\\theta) \\,\\, \\mbox{ s.t. }  g(\\theta) = 0, h(\\theta) \\leq 0,$$\n",
    "where $f(\\cdot)$ is a criterion function, $g(\\theta) = 0$ is an equality constraint,\n",
    "and $h(\\theta)\\leq 0$ is an inequality constraint.\n",
    "\n",
    "Most established numerical optimization algorithms aim at finding a local minimum.\n",
    "However, there is no guarantee to locate the global minimum when multiple local minima exist.\n",
    "\n",
    "Optimization without the equality and/or inequality constraints is called\n",
    "an *unconstrained* problem; otherwise it is called a *constrained* problem.\n",
    "The constraints can be incorporated into the criterion function via Lagrangian."
   ]
  },
  {
   "cell_type": "markdown",
   "metadata": {},
   "source": [
    "## Methods\n",
    "\n",
    "There are many optimization algorithms in the field of operational research;\n",
    "they are variants of a small handful of main principles.\n",
    "\n",
    "The fundamental idea for twice-differentiable objective function is the Newton's method.\n",
    "A necessary condition for optimization is\n",
    "$s(\\theta) = \\partial f(\\theta) / \\partial \\theta = 0$.\n",
    "\n",
    "At an initial trial value $\\theta_0$, if $s(\\theta_0) \\neq 0$, the research is updated by\n",
    "$$\n",
    "\\theta_{t+1} = \\theta_{t} -  \\left( H(\\theta_t)  \\right)^{-1}  s(\\theta_t)\n",
    "$$\n",
    "for $t=0,1,\\cdots$ where\n",
    "$H(\\theta) = \\frac{ \\partial s(\\theta )}{ \\partial \\theta}$\n",
    "is the Hessian matrix.\n",
    "The algorithm iterates\n",
    "until $|\\theta_{t+1} -\\theta_{t}| < \\epsilon$ (absolute criterion) and/or\n",
    "$|\\theta_{t+1} -\\theta_{t}|/|\\theta_{t}| < \\epsilon$ (relative criterion), where\n",
    "$\\epsilon$ is a small positive number chosen as a tolerance level.\n",
    "\n",
    "\n",
    "\n",
    "**Newton's Method.** Newton's method seeks the solution to\n",
    "$s(\\theta) = 0$. Recall that the first-order condition is a necessary condition but not a sufficient\n",
    "condition. We still need to verify the second-order condition to identify\n",
    "whether a root to $s(\\theta)$ is associated to a minimizer or a maximizer,\n",
    "and we compare the values of the mimima to decide a\n",
    "global minimum.\n",
    "\n",
    "It is clear that Newton's method requires\n",
    "computation of the gradient $s(\\theta)$ and the Hessian $H(\\theta)$.\n",
    "Newton's method converges at quadratic rate, which is fast.\n",
    "\n",
    "**Quasi-Newton Method.** The most well-known quasi-Newton algorithm is\n",
    "[BFGS](http://en.wikipedia.org/wiki/Broyden%E2%80%93Fletcher%E2%80%93Goldfarb%E2%80%93Shanno_algorithm).\n",
    "It avoids explicit calculation of the computationally expensive Hessian matrix. Instead, starting from an initial (inverse)\n",
    "Hessian, it updates the Hessian by an explicit formula motivated from the idea of quadratic approximation.\n",
    "\n",
    "**Derivative-Free Method.** [Nelder-Mead](http://en.wikipedia.org/wiki/Nelder%E2%80%93Mead_method)\n",
    "is a simplex method. It searches a local minimum by reflection, expansion and contraction."
   ]
  },
  {
   "cell_type": "markdown",
   "metadata": {},
   "source": [
    "## Implementation\n",
    "\n",
    "Python's optimization infrastructure has been constantly improving.\n",
    "[Pythons Optimization Packages](https://wiki.python.org/moin/PythonForOperationsResearch) and [Comparison of Python Optimization Packages](https://en.wikipedia.org/wiki/Comparison_of_optimization_software)\n",
    "gives an overview of the available packages.\n",
    "\n",
    "**Example**\n",
    "\n",
    "We use [SciPy](https://docs.scipy.org/doc/scipy/reference/tutorial/optimize.html) to solve pseudo Poisson maximum likelihood estimation (PPML).\n",
    "If $y_i$ is a continuous random variable, it obviously does not follow a Poisson\n",
    "distribution, whose support consists of non-negative integers. However, if the conditional mean model\n",
    "$$E[y_i | x_i] = \\exp( x_i' \\beta),$$\n",
    "is satisfied, we can still use the Poisson regression to obtain a consistent\n",
    "estimator of the parameter $\\beta$ even if $y_i$ does not follow a conditional\n",
    "Poisson distribution.\n",
    "\n",
    "If $Z$ follows a Poisson distribution with mean $\\lambda$, the probability mass function\n",
    "$$\n",
    "\\Pr(Z = k) = \\frac{\\mathrm{e}^{-\\lambda} \\lambda^k}{k!}, \\mbox{ for }k=0,1,2,\\ldots,\n",
    "$$\n",
    "so that\n",
    "$$\n",
    "\\log \\Pr(Y = y | x) =  -\\exp(x'\\beta) + y\\cdot x'\\beta - \\log k!\n",
    "$$\n",
    "Since the last term is irrelevant to the parameter, the\n",
    "log-likelihood function is\n",
    "$$\n",
    "\\ell(\\beta) = \\log \\Pr( \\mathbf{y} | \\mathbf{x};\\beta ) =\n",
    "-\\sum_{i=1}^n \\exp(x_i'\\beta) + \\sum_{i=1}^n y_i x_i'\\beta.\n",
    "$$\n",
    "In addition, it is easy to write the gradient\n",
    "$$\n",
    "s(\\beta) =\\frac{\\partial \\ell(\\beta)}{\\partial \\beta} =\n",
    "-\\sum_{i=1}^n \\exp(x_i'\\beta)x_i + \\sum_{i=1}^n y_i x_i.\n",
    "$$\n",
    "and verify that the Hessian\n",
    "$$\n",
    "H(\\beta) = \\frac{\\partial^2 \\ell(\\beta)}{\\partial \\beta \\partial \\beta'} =\n",
    "-\\sum_{i=1}^n \\exp(x_i'\\beta)x_i x_i' - \\sum_{i=1}^n \\exp(x_i'\\beta)\n",
    "$$\n",
    "is negative definite. Therefore, $\\ell(\\beta)$ is strictly concave\n",
    "in $\\beta$.\n",
    "\n",
    "In economics we have utility maximization and cost minimization.\n",
    "In statistics we have maximum likelihood estimation and minimal least squared estimation.\n",
    "In operational reserach, the default optimization is minimization, not maximization.\n",
    "To follow this convention, here we formulate the *negative* log-likelihood."
   ]
  },
  {
   "cell_type": "code",
   "execution_count": 1,
   "metadata": {
    "pycharm": {
     "is_executing": false,
     "name": "#%%\n"
    }
   },
   "outputs": [],
   "source": [
    "# Import the NumPy library\n",
    "import numpy as np\n",
    "# Import the Pandas library\n",
    "import pandas as pd\n",
    "# Import from SciPy library the optimize package\n",
    "from scipy.optimize import minimize\n",
    "# Import Math\n",
    "import math as ma\n",
    "# import matplotlib\n",
    "import matplotlib as plt\n",
    "import matplotlib.cm as cm\n",
    "import matplotlib.pyplot as plt"
   ]
  },
  {
   "cell_type": "code",
   "execution_count": 2,
   "metadata": {
    "pycharm": {
     "is_executing": false,
     "name": "#%%\n"
    }
   },
   "outputs": [],
   "source": [
    "def poisson_loglik(b):\n",
    "    b = np.asarray(b).reshape(2,1)\n",
    "    Xb = np.exp(np.dot(X, b))\n",
    "    cols = -Xb + np.multiply(np.asarray(y), np.log(Xb))\n",
    "    ell = -cols.sum()\n",
    "    return(ell)"
   ]
  },
  {
   "cell_type": "markdown",
   "metadata": {},
   "source": [
    "To implement optimization in `Python`, it is recommended to write the criterion as a\n",
    "function of the parameter. Data can be fed inside or outside of the function.\n",
    "If the data is provided as additional arguments, these arguments must be explicit.\n",
    "(In constrast, in `Matlab` the parameter must be the sole argument for the function to be\n",
    "optimized, and data can only be injected through a nested function.)"
   ]
  },
  {
   "cell_type": "markdown",
   "metadata": {},
   "source": [
    "**Example**\n",
    "\n",
    "To get the gist of implementing an optimization problem into Python, we make a quick tour and implement the famous [Rosenbrock function](https://en.wikipedia.org/wiki/Rosenbrock_function)"
   ]
  },
  {
   "cell_type": "code",
   "execution_count": 3,
   "metadata": {
    "pycharm": {
     "is_executing": false,
     "name": "#%%\n"
    }
   },
   "outputs": [],
   "source": [
    "# Quick Implementation of The Rosenbrock function\n",
    "def rosen(x):\n",
    "    \"\"\"The Rosenbrock function\"\"\"\n",
    "    return sum(100.0*(x[1:]-x[:-1]**2.0)**2.0 + (1-x[:-1])**2.0)"
   ]
  },
  {
   "cell_type": "code",
   "execution_count": 4,
   "metadata": {
    "pycharm": {
     "is_executing": false,
     "name": "#%%\n"
    }
   },
   "outputs": [
    {
     "name": "stdout",
     "output_type": "stream",
     "text": [
      "Optimization terminated successfully.\n",
      "         Current function value: 0.000000\n",
      "         Iterations: 339\n",
      "         Function evaluations: 571\n"
     ]
    }
   ],
   "source": [
    "x0 = np.array([1.3, 0.7, 0.8, 1.9, 1.2])\n",
    "res = minimize(rosen, x0, method='nelder-mead',\n",
    "               options={'xtol': 1e-8, 'disp': True})"
   ]
  },
  {
   "cell_type": "markdown",
   "metadata": {},
   "source": [
    "**Example**\n",
    "\n",
    "Import Recreation Demand to apply the MLE via optimization packages"
   ]
  },
  {
   "cell_type": "code",
   "execution_count": 5,
   "metadata": {
    "pycharm": {
     "is_executing": false,
     "name": "#%%\n"
    }
   },
   "outputs": [
    {
     "data": {
      "text/html": [
       "<div>\n",
       "<style scoped>\n",
       "    .dataframe tbody tr th:only-of-type {\n",
       "        vertical-align: middle;\n",
       "    }\n",
       "\n",
       "    .dataframe tbody tr th {\n",
       "        vertical-align: top;\n",
       "    }\n",
       "\n",
       "    .dataframe thead th {\n",
       "        text-align: right;\n",
       "    }\n",
       "</style>\n",
       "<table border=\"1\" class=\"dataframe\">\n",
       "  <thead>\n",
       "    <tr style=\"text-align: right;\">\n",
       "      <th></th>\n",
       "      <th>trips</th>\n",
       "      <th>quality</th>\n",
       "      <th>ski</th>\n",
       "      <th>income</th>\n",
       "      <th>userfee</th>\n",
       "      <th>costC</th>\n",
       "      <th>costS</th>\n",
       "      <th>costH</th>\n",
       "    </tr>\n",
       "  </thead>\n",
       "  <tbody>\n",
       "    <tr>\n",
       "      <th>1</th>\n",
       "      <td>0</td>\n",
       "      <td>0</td>\n",
       "      <td>yes</td>\n",
       "      <td>4</td>\n",
       "      <td>no</td>\n",
       "      <td>67,59</td>\n",
       "      <td>68,62</td>\n",
       "      <td>76,8</td>\n",
       "    </tr>\n",
       "    <tr>\n",
       "      <th>2</th>\n",
       "      <td>0</td>\n",
       "      <td>0</td>\n",
       "      <td>no</td>\n",
       "      <td>9</td>\n",
       "      <td>no</td>\n",
       "      <td>68,86</td>\n",
       "      <td>70,936</td>\n",
       "      <td>84,78</td>\n",
       "    </tr>\n",
       "    <tr>\n",
       "      <th>3</th>\n",
       "      <td>0</td>\n",
       "      <td>0</td>\n",
       "      <td>yes</td>\n",
       "      <td>5</td>\n",
       "      <td>no</td>\n",
       "      <td>58,12</td>\n",
       "      <td>59,465</td>\n",
       "      <td>72,11</td>\n",
       "    </tr>\n",
       "  </tbody>\n",
       "</table>\n",
       "</div>"
      ],
      "text/plain": [
       "   trips  quality  ski  income userfee  costC   costS  costH\n",
       "1      0        0  yes       4      no  67,59   68,62   76,8\n",
       "2      0        0   no       9      no  68,86  70,936  84,78\n",
       "3      0        0  yes       5      no  58,12  59,465  72,11"
      ]
     },
     "execution_count": 5,
     "metadata": {},
     "output_type": "execute_result"
    }
   ],
   "source": [
    "## prepare the data\n",
    "df = pd.read_csv(r'/Users/marckullmann/Documents/Python/Lectures/RecreationDemand.csv', sep=';', encoding='latin1')\n",
    "df[:3]"
   ]
  },
  {
   "cell_type": "code",
   "execution_count": 6,
   "metadata": {
    "pycharm": {
     "is_executing": false,
     "name": "#%%\n"
    }
   },
   "outputs": [],
   "source": [
    "# prepare the data\n",
    "y = pd.DataFrame(data = df['trips'], columns = ['trips'])\n",
    "\n",
    "ones = pd.DataFrame(data = (np.ones((df.shape[0], 1))), columns=['ones'])\n",
    "income = pd.DataFrame(data = df[\"income\"], columns = ['income'])\n",
    "\n",
    "X = pd.DataFrame(data = ones, columns=['ones'])\n",
    "X['income'] = income.values\n",
    "\n",
    "backup = X"
   ]
  },
  {
   "cell_type": "code",
   "execution_count": 7,
   "metadata": {
    "pycharm": {
     "is_executing": false,
     "name": "#%%\n"
    }
   },
   "outputs": [
    {
     "name": "stdout",
     "output_type": "stream",
     "text": [
      "Nelder-Mead: \n",
      "  final_simplex: (array([[ 1.17739744, -0.09993984],\n",
      "       [ 1.17739745, -0.09993985],\n",
      "       [ 1.17739745, -0.09993984]]), array([261.1140783, 261.1140783, 261.1140783]))\n",
      "           fun: 261.11407829532857\n",
      "       message: 'Optimization terminated successfully.'\n",
      "          nfev: 197\n",
      "           nit: 102\n",
      "        status: 0\n",
      "       success: True\n",
      "             x: array([ 1.17739744, -0.09993984]) \n",
      " \n",
      " BFGS: \n",
      "       fun: 261.11407829533\n",
      " hess_inv: array([[ 0.0036817 , -0.00085069],\n",
      "       [-0.00085069,  0.00024087]])\n",
      "      jac: array([-3.81469727e-06, -3.81469727e-06])\n",
      "  message: 'Optimization terminated successfully.'\n",
      "     nfev: 64\n",
      "      nit: 11\n",
      "     njev: 16\n",
      "   status: 0\n",
      "  success: True\n",
      "        x: array([ 1.17739751, -0.09993986])\n"
     ]
    },
    {
     "name": "stderr",
     "output_type": "stream",
     "text": [
      "/Users/marckullmann/.conda/envs/Lecture_20199807/lib/python3.7/site-packages/ipykernel_launcher.py:7: OptimizeWarning: Unknown solver options: xtol\n",
      "  import sys\n"
     ]
    }
   ],
   "source": [
    "#implement both BFGS and Nelder-Mead for comparison.\n",
    "\n",
    "x0 = np.array([0,-1])\n",
    "b_hat_nm = minimize(poisson_loglik, x0, method='nelder-mead', \n",
    "                    options={'xtol': 1e-8, 'disp': False, 'maxiter' : 500})\n",
    "b_hat_bfgs = minimize(poisson_loglik, x0, method='BFGS', \n",
    "                      options={'xtol': 1e-8, 'disp': False, 'maxiter' : 500})\n",
    "\n",
    "print('Nelder-Mead: \\n', b_hat_nm, '\\n \\n',\n",
    "     'BFGS: \\n', b_hat_bfgs)"
   ]
  },
  {
   "cell_type": "markdown",
   "metadata": {},
   "source": [
    "Given the conditional mean model, nonlinear least squares (NLS) is also consistent in theory.\n",
    "NLS minimizes\n",
    "$$\n",
    "\\sum_{i=1}^n (y_i - \\exp(x_i \\beta))^2\n",
    "$$\n",
    "A natural question is: why do we prefer PPML to NLS?\n",
    "My argument is that, PPML's optimization for the linear index is globally convex, while NLS is not.\n",
    "It implies that the numerical optimization of PPML is easier and more robust than that of NLS. I leave the derivation of the non-convexity of NLS\n",
    "as an exercise.\n",
    "\n",
    "\n",
    "In practice no algorithm suits all problems. Simulation, where the true parameter is known,\n",
    "  is helpful to check the accuracy of one's optimization routine before applying to an empirical problem,\n",
    "  where the true parameter is unknown.\n",
    "Contour plot is a useful tool to visualize the function surface/manifold in a low dimension.\n",
    "\n",
    "**Example**\n"
   ]
  },
  {
   "cell_type": "code",
   "execution_count": 8,
   "metadata": {
    "pycharm": {
     "is_executing": false,
     "name": "#%%\n"
    }
   },
   "outputs": [],
   "source": [
    "x_grid = np.arange(start = 0, stop = 1.8, step = 0.02)\n",
    "x_length = len(x_grid)\n",
    "y_grid = np.arange(-0.5, .2, 0.01)\n",
    "y_length = len(y_grid)\n",
    "\n",
    "z_contour = np.asmatrix(np.zeros((x_length, y_length)))\n",
    "\n",
    "for i in range(x_length):\n",
    "    for j in range(y_length):\n",
    "        z_contour[i, j] = poisson_loglik((x_grid[i], y_grid[j]))"
   ]
  },
  {
   "cell_type": "code",
   "execution_count": 9,
   "metadata": {
    "pycharm": {
     "is_executing": false,
     "name": "#%%\n"
    }
   },
   "outputs": [
    {
     "data": {
      "text/plain": [
       "Text(0.5, 1.0, 'Contour Plot')"
      ]
     },
     "execution_count": 9,
     "metadata": {},
     "output_type": "execute_result"
    },
    {
     "data": {
      "image/png": "[encoded data removed]",
      "text/plain": [
       "<Figure size 432x288 with 1 Axes>"
      ]
     },
     "metadata": {
      "needs_background": "light"
     },
     "output_type": "display_data"
    }
   ],
   "source": [
    "X, Y = np.meshgrid(x_grid, y_grid)\n",
    "\n",
    "plt.figure()\n",
    "level = np.arange(600, 4000, 200)\n",
    "cp = plt.contour(z_contour, levels = level, colors = 'black')\n",
    "plt.clabel(cp, inline=True,\n",
    "          fontsize=8)\n",
    "plt.title('Contour Plot')\n"
   ]
  },
  {
   "cell_type": "markdown",
   "metadata": {},
   "source": [
    "For problems that demand more accuracy, other third-party standalone solvers can be\n",
    "invoked via interfaces to `Python`.\n",
    "For example, we can access [`NLopt`](http://ab-initio.mit.edu/wiki/index.php/NLopt_Installation)\n",
    "through the packages [`nlopt`](https://nlopt.readthedocs.io/en/latest/NLopt_Python_Reference/).\n",
    "However, standalone solvers usually have to be compiled and configured.\n",
    "These steps are often not as straightforward as installing commercial Windows software.\n",
    "\n",
    "`NLopt` offers an [extensive list of algorithms](http://ab-initio.mit.edu/wiki/index.php/NLopt_Algorithms#SLSQP).\n",
    "\n",
    "**Example**\n",
    "\n",
    "We first carry out the Nelder-Mead algorithm in NLOPT."
   ]
  },
  {
   "cell_type": "code",
   "execution_count": 13,
   "metadata": {
    "pycharm": {
     "is_executing": false,
     "name": "#%%\n"
    }
   },
   "outputs": [],
   "source": [
    "import nlopt"
   ]
  },
  {
   "cell_type": "code",
   "execution_count": 14,
   "metadata": {
    "pycharm": {
     "is_executing": false,
     "name": "#%%\n"
    }
   },
   "outputs": [],
   "source": [
    "X = backup # as we used X in our contour-plot!\n",
    "\n",
    "# Define PPML\n",
    "# def poisson_loglik(b):\n",
    "#     b = np.asarray(b).reshape(2,1)\n",
    "#     Xb = np.exp(np.dot(X, b))\n",
    "#     cols = -Xb + np.multiply(np.asarray(y), np.log(Xb))\n",
    "#     ell = -cols.sum()\n",
    "#     return(ell)\n",
    "\n",
    "# Define gradient of PPML\n",
    "def poisson_loglik_grad(b):\n",
    "    b = np.asarray(b).reshape(2,1)\n",
    "    Xb = np.exp(np.dot(X, b))\n",
    "    cols = -(np.multiply(Xb, X)) + (np.multiply(X, y))\n",
    "    ellg = -cols.sum()\n",
    "    return(ellg)\n"
   ]
  },
  {
   "cell_type": "code",
   "execution_count": 17,
   "metadata": {
    "pycharm": {
     "is_executing": false,
     "name": "#%%\n"
    }
   },
   "outputs": [
    {
     "name": "stdout",
     "output_type": "stream",
     "text": [
      "optimum at  [ 1.17739745 -0.09993984]\n",
      "minimum value =  261.1140782953288\n",
      "result code =  4\n",
      "number of iterations =  500\n",
      "successful =  1\n"
     ]
    }
   ],
   "source": [
    "# Implement function f for the nlopt algorithm\n",
    "def f(x, grad):\n",
    "    if grad.size > 0:\n",
    "        grad[:] = poisson_loglik_grad(x)\n",
    "    return poisson_loglik(x)\n",
    "\n",
    "opt = nlopt.opt(nlopt.LN_NELDERMEAD, 2)\n",
    "opt.set_min_objective(f)\n",
    "opt.set_xtol_rel(1e-7)\n",
    "opt.set_maxeval(500)\n",
    "\n",
    "x = np.array(([0, -1]))\n",
    "xopt = opt.optimize(x)\n",
    "minf = opt.last_optimum_value()\n",
    "\n",
    "print(\"optimum at \", xopt)\n",
    "print(\"minimum value = \", minf)\n",
    "print(\"result code = \", opt.last_optimize_result())\n",
    "print(\"number of iterations = \", opt.get_maxeval())\n",
    "print(\"successful = \", nlopt.SUCCESS)"
   ]
  },
  {
   "cell_type": "markdown",
   "metadata": {},
   "source": [
    "**Example II**\n",
    "\n",
    "Now we implement the MLE in the conventional way via `statsmodels`"
   ]
  },
  {
   "cell_type": "code",
   "execution_count": null,
   "metadata": {
    "pycharm": {
     "is_executing": false,
     "name": "#%%\n"
    }
   },
   "outputs": [],
   "source": [
    "from statsmodels.api import Poisson\n",
    "\n",
    "# transform the data into arrays\n",
    "y_array = np.asarray(y)\n",
    "x_array = np.asarray(X)\n",
    "\n",
    "# implementation\n",
    "stats_poisson = Poisson(y_array, x_array).fit()\n",
    "print(stats_poisson.summary())"
   ]
  },
  {
   "cell_type": "markdown",
   "metadata": {
    "pycharm": {
     "name": "#%% md\n"
    }
   },
   "source": [
    "As we can see from the summary table the constant and independent variable are equal to our result from the optimizations."
   ]
  },
  {
   "cell_type": "markdown",
   "metadata": {
    "pycharm": {
     "is_executing": false,
     "name": "#%% md\n"
    }
   },
   "source": [
    "## Contrained Optimization\n",
    "\n",
    "* `SciPy Optimize` is a very powerful tool for constraint linear and non linear optimization. For reference please visit the [Scipy webpage](https://docs.scipy.org/doc/scipy/reference/optimize.html).\n",
    "* [`PuLP`](https://pythonhosted.org/PuLP/)can handle linear constrained problems. For a simple example please visit [Linear Programming in Python: A Straight Forward Tutorial](https://hackernoon.com/linear-programming-in-python-a-straight-forward-tutorial-a0d152618121). \n",
    "* Some algorithms in `nlopt`, for example, `NLOPT_LD_SLSQP`, can handle nonlinear constrained problems.\n",
    "* `Gurobi`, and `CPLEX` are additional packages for constrained optimization.\n",
    " \n",
    "## Convex Optimization\n",
    "\n",
    "If a function is convex in its argument, then a local minimum is a global minimum.\n",
    "Convex optimization is particularly important in high-dimensional problems. The readers are\n",
    "referred to @boyd2004convex for an accessible comprehensive treatment. They claim that\n",
    "\"convex optimization is technology; all other optimizations are arts.\" This is true to some extent.\n",
    "\n",
    "\n",
    "**Example**\n",
    "\n",
    "* linear regression model MLE\n",
    "* Lasso [@su2016identifying]\n",
    "* Relaxed empirical likelihood [@shi2016econometric].\n",
    "\n",
    "A class of common convex optimization can be reliably implemented in `R` or `Python`.\n",
    "[`Rmosek`](http://rmosek.r-forge.r-project.org/) / [`Mosek for Python`](https://docs.mosek.com/9.0/pythonapi/index.html) is an interface in `R/Python` to access `Mosek`.\n",
    "`Mosek` is a high-quality commercial solver dedicated to convex optimization.\n",
    "It offers free academic licenses. (`Rtools` is a prerequisite to install `Rmosek` in R.)\n",
    "\n",
    "An additional package for convex optimization in Python is [`CVXOPT`](https://cvxopt.org). It is fairly easy to implement and has a intuitive documentation."
   ]
  },
  {
   "cell_type": "code",
   "execution_count": null,
   "metadata": {
    "pycharm": {
     "is_executing": false,
     "name": "#%%\n"
    }
   },
   "outputs": [],
   "source": [
    "# example [modified] from https://docs.mosek.com/9.0/pythonfusion/_downloads/lo1.py\n",
    "from mosek.fusion import *\n",
    "\n",
    "# Create our matrices:\n",
    "A = [[3.0, 1.0, 2.0, 0.0],\n",
    "     [2.0, 1.0, 3.0, 1.0],\n",
    "     [0.0, 2.0, 0.0, 3.0]]\n",
    "c = [3.0, 1.0, 5.0, 1.0]\n",
    "\n",
    "# Create a model with the name 'lo1'\n",
    "with Model(\"lo1\") as M:\n",
    "\n",
    "    # Create variable 'x' of length 4\n",
    "    x = M.variable(\"x\", 4, Domain.greaterThan(0.0))\n",
    "\n",
    "    # Create constraints\n",
    "    M.constraint(x.index(1), Domain.lessThan(10.0))\n",
    "    M.constraint(\"c1\", Expr.dot(A[0], x), Domain.equalsTo(30.0))\n",
    "    M.constraint(\"c2\", Expr.dot(A[1], x), Domain.greaterThan(15.0))\n",
    "    M.constraint(\"c3\", Expr.dot(A[2], x), Domain.lessThan(25.0))\n",
    "\n",
    "    # Set the objective function to (c^t * x)\n",
    "    M.objective(\"obj\", ObjectiveSense.Maximize, Expr.dot(c, x))\n",
    "\n",
    "    # Solve the problem\n",
    "    M.solve()\n",
    "\n",
    "    # Get the solution values\n",
    "    sol = x.level()\n",
    "    print('\\n'.join([\"x[%d] = %f\" % (i, sol[i]) for i in range(4)]))\n",
    "    "
   ]
  },
  {
   "cell_type": "markdown",
   "metadata": {
    "pycharm": {
     "name": "#%% md\n"
    }
   },
   "source": [
    "A survey paper can be found here with [some recent development in convex optimization in econometrics](https://www.researchgate.net/publication/320805166_Convex_Programming_in_Econometrics). "
   ]
  }
 ],
 "metadata": {
  "kernelspec": {
   "display_name": "Python 3",
   "language": "python",
   "name": "python3"
  },
  "language_info": {
   "codemirror_mode": {
    "name": "ipython",
    "version": 3
   },
   "file_extension": ".py",
   "mimetype": "text/x-python",
   "name": "python",
   "nbconvert_exporter": "python",
   "pygments_lexer": "ipython3",
   "version": "3.7.3"
  },
  "pycharm": {
   "stem_cell": {
    "cell_type": "raw",
    "metadata": {
     "collapsed": false
    },
    "source": []
   }
  }
 },
 "nbformat": 4,
 "nbformat_minor": 1
}
