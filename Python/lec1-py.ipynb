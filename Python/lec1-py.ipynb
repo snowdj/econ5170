{
 "cells": [
  {
   "cell_type": "markdown",
   "metadata": {
    "slideshow": {
     "slide_type": "slide"
    }
   },
   "source": [
    "# Basic R\n",
    "\n",
    "## Introduction\n",
    "\n",
    "One cannot acquire a new programming language without investing numerous hours.\n",
    "[R-Introduction](https://cran.r-project.org/doc/manuals/r-release/R-intro.pdf) is an official manual\n",
    "maintained by the R core team.\n",
    "It was the first document that I perused painstakingly when I began to learn R in 2005.\n",
    "After so many years, this is still the best starting point for you to have a taste.\n",
    "\n",
    "This lecture quickly sketches some key points of the manual, while you should carefully go over R-Introduction\n",
    "after today's lecture.\n",
    "\n",
    "## Help System\n",
    "\n",
    "The help system is the first thing we must learn for a new language.\n",
    "In R, if we know the exact name of a function and want to check its usage, we can either call `help(function_name)` or a single question mark `?function_name`.\n",
    "If we do not know the exact function name, we can instead use the double question mark `??key_words`. It will provide a list of related function names from a fuzzy search.\n",
    "\n",
    "**Example**: `?seq`, `??sequence`"
   ]
  },
  {
   "cell_type": "markdown",
   "metadata": {},
   "source": [
    "## Vector\n",
    "\n",
    "A *vector* is a collection of elements of the same type, say, integer, logical value, real number, complex number, characters or factor.\n",
    "Unlike C, R does not require explicit type declaration.\n",
    "\n",
    " `<-` assigns the value on its right-hand side to a self-defined variable name on its left-hand side. `=` is an alternative for assignment, which I prefer.\n",
    "\n",
    " `c()`  combines two or more vectors into a long vector.\n",
    "\n",
    "\n",
    "Binary arithmetic operations `+`, `-`, `*` and `\\` are performed element by element.\n",
    "So are the binary logical operations `&` `|` `!=`.\n",
    "\n",
    "*Factor* is a categorical number. *Character* is text.\n",
    "\n",
    "Missing values in R is represented as `NA` (Not Available). When some operations are not allowed, say, `log(-1)`, R returns  `NaN` (Not a Number).\n",
    "\n",
    "Vector selection is specified in square bracket `a[ ]` by either positive integer or logical vector.\n",
    "\n",
    "**Example**\n",
    "\n",
    "Logical vector operation."
   ]
  },
  {
   "cell_type": "code",
   "execution_count": 1,
   "metadata": {
    "collapsed": false
   },
   "outputs": [
    {
     "name": "stdout",
     "output_type": "stream",
     "text": [
      "[False, True, True]\n"
     ]
    }
   ],
   "source": [
    "logi_1 = [True,True,False]\n",
    "logi_2 = [False,True,True]\n",
    "\n",
    "logi_12 = logi_1 and logi_2\n",
    "print(logi_12)"
   ]
  },
  {
   "cell_type": "markdown",
   "metadata": {},
   "source": [
    "## Array and Matrix\n",
    "\n",
    "An array is a table of numbers.  \n",
    "A matrix is a 2-dimensional array.\n",
    "\n",
    "* array arithmetic: element-by-element. Caution must be exercised in binary operations involving two objects of different length. This is error-prone.\n",
    "* `%*%`, `solve`, `eigen`\n",
    "\n",
    "**Example**\n",
    "\n",
    "OLS estimation with one $x$ regressor and a constant.\n",
    "Graduate textbook expresses the OLS in matrix form\n",
    "$$\\hat{\\beta} = (X' X)^{-1} X'y.$$\n",
    "To conduct OLS estimation in R, we literally translate the mathematical expression into code.\n",
    "\n",
    "Step 1: We need data $Y$ and $X$ to run OLS. We simulate an artificial dataset."
   ]
  },
  {
   "cell_type": "code",
   "execution_count": 2,
   "metadata": {
    "collapsed": false
   },
   "outputs": [
    {
     "name": "stdout",
     "output_type": "stream",
     "text": [
      "[[ 1.04743081]\n",
      " [ 1.08607653]]\n"
     ]
    }
   ],
   "source": [
    "### OLS simulation\n",
    "from pylab import *\n",
    "import numpy as np\n",
    "\n",
    "np.random.seed(1)\n",
    "# set the parameters\n",
    "\n",
    "n = 100\n",
    "b0 = ones ( ( 2, 1) )\n",
    "\n",
    "# generate the data\n",
    "e = np.random.randn(n,1) \n",
    "X = hstack( (ones ( ( n, 1) ),  np.random.randn(n,1)  ) )\n",
    "Y = dot(X, b0) + e\n",
    "\n",
    "# OLS estimator\n",
    "bhat = dot( inv( dot( X.T, X ) ), dot( X.T, Y ) ) \n",
    "print(bhat)"
   ]
  },
  {
   "cell_type": "code",
   "execution_count": 3,
   "metadata": {
    "collapsed": false
   },
   "outputs": [
    {
     "ename": "SyntaxError",
     "evalue": "invalid syntax (<ipython-input-3-fd25a880aa87>, line 2)",
     "output_type": "error",
     "traceback": [
      "\u001b[1;36m  File \u001b[1;32m\"<ipython-input-3-fd25a880aa87>\"\u001b[1;36m, line \u001b[1;32m2\u001b[0m\n\u001b[1;33m    plot( y = Y, x = X[,2], xlab = \"X\", ylab = \"Y\", main = \"regression\")\u001b[0m\n\u001b[1;37m                       ^\u001b[0m\n\u001b[1;31mSyntaxError\u001b[0m\u001b[1;31m:\u001b[0m invalid syntax\n"
     ]
    }
   ],
   "source": [
    "# plot\n",
    "plot( y = Y, x = X[,2], xlab = \"X\", ylab = \"Y\", main = \"regression\")\n",
    "abline( a= bhat[1], b = bhat[2])\n",
    "abline( a = b0[1], b = b0[2], col = \"red\")\n",
    "abline( h = 0, lty = 2)\n",
    "abline( v = 0, lty = 2)"
   ]
  },
  {
   "cell_type": "markdown",
   "metadata": {},
   "source": [
    "Step 4: In econometrics we are often interested in hypothesis testing.\n",
    "The *t*-statistic is widely used.\n",
    "To test the null $H_0: \\beta_2 = 1$, we compute the associated *t*-statistic.\n",
    "Again, this is a translation.\n",
    "$$\n",
    "t  =  \\frac{\\hat{\\beta}_2 - \\beta_{02}}{ \\hat{\\sigma}_{\\hat{\\beta}_2}  }\n",
    "   =  \\frac{\\hat{\\beta}_2 - \\beta_{02}}{ \\sqrt{ \\left[ (X'X)^{-1} \\hat{\\sigma}^2 \\right]_{22} } }.\n",
    "$$\n",
    "where $[\\cdot]_{22}$ is the (2,2)-element of a matrix."
   ]
  },
  {
   "cell_type": "code",
   "execution_count": null,
   "metadata": {
    "collapsed": true
   },
   "outputs": [],
   "source": []
  }
 ],
 "metadata": {
  "anaconda-cloud": {},
  "kernelspec": {
   "display_name": "Python [Root]",
   "language": "python",
   "name": "Python [Root]"
  },
  "language_info": {
   "codemirror_mode": {
    "name": "ipython",
    "version": 3
   },
   "file_extension": ".py",
   "mimetype": "text/x-python",
   "name": "python",
   "nbconvert_exporter": "python",
   "pygments_lexer": "ipython3",
   "version": "3.5.2"
  }
 },
 "nbformat": 4,
 "nbformat_minor": 2
}
